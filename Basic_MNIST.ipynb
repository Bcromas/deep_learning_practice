{
 "cells": [
  {
   "cell_type": "code",
   "execution_count": 107,
   "metadata": {},
   "outputs": [],
   "source": [
    "import matplotlib.pyplot as plt\n",
    "import numpy as np\n",
    "import pandas as pd\n",
    "import tensorflow as tf\n",
    "\n",
    "from tensorflow import keras\n",
    "from functools import partial"
   ]
  },
  {
   "cell_type": "markdown",
   "metadata": {},
   "source": [
    "# Load MNIST data"
   ]
  },
  {
   "cell_type": "code",
   "execution_count": 108,
   "metadata": {},
   "outputs": [],
   "source": [
    "(X_train_full, y_train_full), (X_test, y_test) = keras.datasets.mnist.load_data()"
   ]
  },
  {
   "cell_type": "code",
   "execution_count": 109,
   "metadata": {},
   "outputs": [
    {
     "data": {
      "text/plain": [
       "(60000, 10000)"
      ]
     },
     "execution_count": 109,
     "metadata": {},
     "output_type": "execute_result"
    }
   ],
   "source": [
    "X_train_full.shape[0], X_test.shape[0]"
   ]
  },
  {
   "cell_type": "markdown",
   "metadata": {},
   "source": [
    "### There are 60k training instances & 10k test instances."
   ]
  },
  {
   "cell_type": "code",
   "execution_count": 110,
   "metadata": {},
   "outputs": [
    {
     "data": {
      "text/plain": [
       "(0, 255)"
      ]
     },
     "execution_count": 110,
     "metadata": {},
     "output_type": "execute_result"
    }
   ],
   "source": [
    "X_train_full[0].min(), X_train_full[0].max() "
   ]
  },
  {
   "cell_type": "markdown",
   "metadata": {},
   "source": [
    "### The individual pixel values range from 0 to 255; we'll want to scale these to between 0 & 1."
   ]
  },
  {
   "cell_type": "markdown",
   "metadata": {},
   "source": [
    "# Create validation set & scale pixel values"
   ]
  },
  {
   "cell_type": "code",
   "execution_count": 111,
   "metadata": {},
   "outputs": [],
   "source": [
    "X_valid, X_train = X_train_full[:5000]/255.0, X_train_full[5000:]/255.0"
   ]
  },
  {
   "cell_type": "code",
   "execution_count": 112,
   "metadata": {},
   "outputs": [],
   "source": [
    "y_valid, y_train = y_train_full[:5000], y_train_full[5000:]"
   ]
  },
  {
   "cell_type": "code",
   "execution_count": 113,
   "metadata": {},
   "outputs": [],
   "source": [
    "X_test = X_test/255.0"
   ]
  },
  {
   "cell_type": "code",
   "execution_count": 114,
   "metadata": {},
   "outputs": [
    {
     "data": {
      "text/plain": [
       "array([5, 0, 4, ..., 2, 1, 2], dtype=uint8)"
      ]
     },
     "execution_count": 114,
     "metadata": {},
     "output_type": "execute_result"
    }
   ],
   "source": [
    "y_valid"
   ]
  },
  {
   "cell_type": "markdown",
   "metadata": {},
   "source": [
    "### Labels are simple integer values."
   ]
  },
  {
   "cell_type": "code",
   "execution_count": 115,
   "metadata": {},
   "outputs": [
    {
     "data": {
      "text/plain": [
       "10"
      ]
     },
     "execution_count": 115,
     "metadata": {},
     "output_type": "execute_result"
    }
   ],
   "source": [
    "len(np.unique(y_valid))"
   ]
  },
  {
   "cell_type": "code",
   "execution_count": 116,
   "metadata": {},
   "outputs": [],
   "source": [
    "y_train = y_train*1.0\n",
    "y_valid = y_valid*1.0\n",
    "y_test = y_test*1.0 # y values need to be floats"
   ]
  },
  {
   "cell_type": "markdown",
   "metadata": {},
   "source": [
    "We now have the following datasets:\n",
    "\n",
    "> X_train, y_train\n",
    "    \n",
    "> X_valid, y_valid\n",
    "    \n",
    "> X_test, y_test"
   ]
  },
  {
   "cell_type": "markdown",
   "metadata": {},
   "source": [
    "# Simple dense model"
   ]
  },
  {
   "cell_type": "code",
   "execution_count": 117,
   "metadata": {},
   "outputs": [],
   "source": [
    "# model = keras.models.Sequential(\n",
    "#     [\n",
    "#         keras.layers.Flatten(input_shape=[28, 28]),\n",
    "#         keras.layers.Dense(300, activation='relu'),\n",
    "#         keras.layers.Dense(300, activation='relu'),\n",
    "#         keras.layers.Dense(10, activation='softmax'),\n",
    "#     ]\n",
    "# ) # standard, manual way of building a model\n",
    "\n",
    "# model = keras.models.Sequential()\n",
    "# model.add(keras.layers.Flatten(input_shape=[28, 28]))\n",
    "# for i in range(2):\n",
    "#     model.add(keras.layers.Dense(300, activation='relu'))\n",
    "# model.add(keras.layers.Dense(10, activation='softmax')) # building a model with a for loop"
   ]
  },
  {
   "cell_type": "markdown",
   "metadata": {},
   "source": [
    "> ### The cell above contains two ways of defining layers and adding them to a model, the standard manual way and one with a for loop. Below I implement a third way using 'partial'."
   ]
  },
  {
   "cell_type": "code",
   "execution_count": 118,
   "metadata": {},
   "outputs": [
    {
     "name": "stdout",
     "output_type": "stream",
     "text": [
      "Epoch 1/30\n",
      "1719/1719 [==============================] - 3s 2ms/step - loss: 0.6079 - accuracy: 0.8474 - val_loss: 0.3052 - val_accuracy: 0.9154\n",
      "Epoch 2/30\n",
      "1719/1719 [==============================] - 3s 2ms/step - loss: 0.2899 - accuracy: 0.9178 - val_loss: 0.2461 - val_accuracy: 0.9318\n",
      "Epoch 3/30\n",
      "1719/1719 [==============================] - 3s 2ms/step - loss: 0.2392 - accuracy: 0.9314 - val_loss: 0.2086 - val_accuracy: 0.9434\n",
      "Epoch 4/30\n",
      "1719/1719 [==============================] - 2s 1ms/step - loss: 0.2048 - accuracy: 0.9415 - val_loss: 0.1844 - val_accuracy: 0.9478\n",
      "Epoch 5/30\n",
      "1719/1719 [==============================] - 2s 1ms/step - loss: 0.1793 - accuracy: 0.9490 - val_loss: 0.1634 - val_accuracy: 0.9540\n",
      "Epoch 6/30\n",
      "1719/1719 [==============================] - 2s 1ms/step - loss: 0.1589 - accuracy: 0.9544 - val_loss: 0.1503 - val_accuracy: 0.9582\n",
      "Epoch 7/30\n",
      "1719/1719 [==============================] - 2s 1ms/step - loss: 0.1431 - accuracy: 0.9589 - val_loss: 0.1365 - val_accuracy: 0.9638\n",
      "Epoch 8/30\n",
      "1719/1719 [==============================] - 3s 2ms/step - loss: 0.1292 - accuracy: 0.9633 - val_loss: 0.1293 - val_accuracy: 0.9628\n",
      "Epoch 9/30\n",
      "1719/1719 [==============================] - 3s 2ms/step - loss: 0.1181 - accuracy: 0.9668 - val_loss: 0.1186 - val_accuracy: 0.9668\n",
      "Epoch 10/30\n",
      "1719/1719 [==============================] - 3s 2ms/step - loss: 0.1087 - accuracy: 0.9695 - val_loss: 0.1147 - val_accuracy: 0.9672\n",
      "Epoch 11/30\n",
      "1719/1719 [==============================] - 3s 2ms/step - loss: 0.1002 - accuracy: 0.9715 - val_loss: 0.1079 - val_accuracy: 0.9680\n",
      "Epoch 12/30\n",
      "1719/1719 [==============================] - 3s 1ms/step - loss: 0.0925 - accuracy: 0.9738 - val_loss: 0.1056 - val_accuracy: 0.9706\n",
      "Epoch 13/30\n",
      "1719/1719 [==============================] - 2s 1ms/step - loss: 0.0861 - accuracy: 0.9759 - val_loss: 0.0975 - val_accuracy: 0.9726\n",
      "Epoch 14/30\n",
      "1719/1719 [==============================] - 3s 2ms/step - loss: 0.0805 - accuracy: 0.9770 - val_loss: 0.0939 - val_accuracy: 0.9730\n",
      "Epoch 15/30\n",
      "1719/1719 [==============================] - 3s 1ms/step - loss: 0.0751 - accuracy: 0.9792 - val_loss: 0.0923 - val_accuracy: 0.9736\n",
      "Epoch 16/30\n",
      "1719/1719 [==============================] - 2s 1ms/step - loss: 0.0701 - accuracy: 0.9804 - val_loss: 0.0886 - val_accuracy: 0.9754\n",
      "Epoch 17/30\n",
      "1719/1719 [==============================] - 2s 1ms/step - loss: 0.0657 - accuracy: 0.9819 - val_loss: 0.0840 - val_accuracy: 0.9766\n",
      "Epoch 18/30\n",
      "1719/1719 [==============================] - 3s 2ms/step - loss: 0.0620 - accuracy: 0.9831 - val_loss: 0.0826 - val_accuracy: 0.9748\n",
      "Epoch 19/30\n",
      "1719/1719 [==============================] - 3s 2ms/step - loss: 0.0579 - accuracy: 0.9845 - val_loss: 0.0793 - val_accuracy: 0.9772\n",
      "Epoch 20/30\n",
      "1719/1719 [==============================] - 3s 2ms/step - loss: 0.0545 - accuracy: 0.9858 - val_loss: 0.0799 - val_accuracy: 0.9764\n",
      "Epoch 21/30\n",
      "1719/1719 [==============================] - 3s 2ms/step - loss: 0.0514 - accuracy: 0.9866 - val_loss: 0.0764 - val_accuracy: 0.9778\n",
      "Epoch 22/30\n",
      "1719/1719 [==============================] - 3s 2ms/step - loss: 0.0485 - accuracy: 0.9871 - val_loss: 0.0784 - val_accuracy: 0.9770\n",
      "Epoch 23/30\n",
      "1719/1719 [==============================] - 3s 2ms/step - loss: 0.0458 - accuracy: 0.9882 - val_loss: 0.0754 - val_accuracy: 0.9788\n",
      "Epoch 24/30\n",
      "1719/1719 [==============================] - 3s 2ms/step - loss: 0.0433 - accuracy: 0.9889 - val_loss: 0.0727 - val_accuracy: 0.9788\n",
      "Epoch 25/30\n",
      "1719/1719 [==============================] - 3s 2ms/step - loss: 0.0405 - accuracy: 0.9897 - val_loss: 0.0718 - val_accuracy: 0.9788\n",
      "Epoch 26/30\n",
      "1719/1719 [==============================] - 3s 2ms/step - loss: 0.0384 - accuracy: 0.9907 - val_loss: 0.0723 - val_accuracy: 0.9786\n",
      "Epoch 27/30\n",
      "1719/1719 [==============================] - 3s 2ms/step - loss: 0.0363 - accuracy: 0.9912 - val_loss: 0.0693 - val_accuracy: 0.9788\n",
      "Epoch 28/30\n",
      "1719/1719 [==============================] - 3s 2ms/step - loss: 0.0343 - accuracy: 0.9917 - val_loss: 0.0701 - val_accuracy: 0.9788\n",
      "Epoch 29/30\n",
      "1719/1719 [==============================] - 3s 2ms/step - loss: 0.0326 - accuracy: 0.9922 - val_loss: 0.0686 - val_accuracy: 0.9798\n",
      "Epoch 30/30\n",
      "1719/1719 [==============================] - 3s 2ms/step - loss: 0.0311 - accuracy: 0.9929 - val_loss: 0.0666 - val_accuracy: 0.9818\n"
     ]
    },
    {
     "data": {
      "image/png": "[encoded data removed]",
      "text/plain": [
       "<Figure size 576x360 with 1 Axes>"
      ]
     },
     "metadata": {
      "needs_background": "light"
     },
     "output_type": "display_data"
    }
   ],
   "source": [
    "# define default attributes of a layer & call it during model building\n",
    "simple_dense = partial(keras.layers.Dense,\n",
    "                      activation='relu') \n",
    "\n",
    "# initialize the model\n",
    "model = keras.models.Sequential([\n",
    "    keras.layers.Flatten(input_shape=[28, 28]),\n",
    "    simple_dense(300),\n",
    "    simple_dense(300),\n",
    "    simple_dense(10, activation='softmax')\n",
    "])\n",
    "\n",
    "model.compile(\n",
    "    loss=tf.keras.losses.SparseCategoricalCrossentropy(), # loss when labels are integers\n",
    "    optimizer='sgd',\n",
    "    metrics=['accuracy']\n",
    ")\n",
    "\n",
    "# implement early stopping to reduce overfitting\n",
    "early_stopping_cb = keras.callbacks.EarlyStopping(\n",
    "    patience=10,\n",
    "    restore_best_weights=True\n",
    ")\n",
    "\n",
    "# capture the model's performance during training\n",
    "history = model.fit(\n",
    "    X_train,\n",
    "    y_train,\n",
    "    epochs=30,\n",
    "    validation_data=(X_valid, y_valid),\n",
    "    callbacks=[early_stopping_cb]\n",
    ")\n",
    "\n",
    "pd.DataFrame(history.history).plot(figsize=(8, 5))\n",
    "plt.grid(True)\n",
    "plt.gca().set_ylim(0, 1) # set the vertical range to [0-1]\n",
    "plt.show()"
   ]
  },
  {
   "cell_type": "code",
   "execution_count": 119,
   "metadata": {},
   "outputs": [
    {
     "name": "stdout",
     "output_type": "stream",
     "text": [
      "313/313 [==============================] - 0s 860us/step - loss: 0.0700 - accuracy: 0.9776\n"
     ]
    }
   ],
   "source": [
    "model.evaluate(X_test, y_test);"
   ]
  },
  {
   "cell_type": "markdown",
   "metadata": {},
   "source": [
    "# \"Default\" dense\n",
    "> ### In Hands-On Machine Learning with Scikit-Learn, Keras, and TensorFlow Géron describes a default configuration for models featuring a simple stack of dense layers. Here we'll adhere as closely to that configuration as possible."
   ]
  },
  {
   "cell_type": "code",
   "execution_count": 120,
   "metadata": {},
   "outputs": [
    {
     "name": "stdout",
     "output_type": "stream",
     "text": [
      "Epoch 1/30\n",
      "1719/1719 [==============================] - 3s 2ms/step - loss: 0.4716 - accuracy: 0.8699 - val_loss: 0.2996 - val_accuracy: 0.9174\n",
      "Epoch 2/30\n",
      "1719/1719 [==============================] - 3s 2ms/step - loss: 0.3022 - accuracy: 0.9132 - val_loss: 0.2645 - val_accuracy: 0.9238\n",
      "Epoch 3/30\n",
      "1719/1719 [==============================] - 3s 2ms/step - loss: 0.2718 - accuracy: 0.9225 - val_loss: 0.2474 - val_accuracy: 0.9274\n",
      "Epoch 4/30\n",
      "1719/1719 [==============================] - 3s 2ms/step - loss: 0.2494 - accuracy: 0.9284 - val_loss: 0.2282 - val_accuracy: 0.9344\n",
      "Epoch 5/30\n",
      "1719/1719 [==============================] - 3s 2ms/step - loss: 0.2296 - accuracy: 0.9341 - val_loss: 0.2129 - val_accuracy: 0.9390\n",
      "Epoch 6/30\n",
      "1719/1719 [==============================] - 3s 2ms/step - loss: 0.2108 - accuracy: 0.9399 - val_loss: 0.1985 - val_accuracy: 0.9446\n",
      "Epoch 7/30\n",
      "1719/1719 [==============================] - 3s 2ms/step - loss: 0.1939 - accuracy: 0.9449 - val_loss: 0.1832 - val_accuracy: 0.9516\n",
      "Epoch 8/30\n",
      "1719/1719 [==============================] - 3s 2ms/step - loss: 0.1779 - accuracy: 0.9496 - val_loss: 0.1709 - val_accuracy: 0.9536\n",
      "Epoch 9/30\n",
      "1719/1719 [==============================] - 3s 2ms/step - loss: 0.1646 - accuracy: 0.9525 - val_loss: 0.1597 - val_accuracy: 0.9572\n",
      "Epoch 10/30\n",
      "1719/1719 [==============================] - 3s 2ms/step - loss: 0.1524 - accuracy: 0.9567 - val_loss: 0.1523 - val_accuracy: 0.9572\n",
      "Epoch 11/30\n",
      "1719/1719 [==============================] - 3s 2ms/step - loss: 0.1412 - accuracy: 0.9595 - val_loss: 0.1399 - val_accuracy: 0.9618\n",
      "Epoch 12/30\n",
      "1719/1719 [==============================] - 3s 2ms/step - loss: 0.1321 - accuracy: 0.9620 - val_loss: 0.1325 - val_accuracy: 0.9614\n",
      "Epoch 13/30\n",
      "1719/1719 [==============================] - 3s 2ms/step - loss: 0.1233 - accuracy: 0.9647 - val_loss: 0.1304 - val_accuracy: 0.9632\n",
      "Epoch 14/30\n",
      "1719/1719 [==============================] - 3s 2ms/step - loss: 0.1148 - accuracy: 0.9671 - val_loss: 0.1232 - val_accuracy: 0.9632\n",
      "Epoch 15/30\n",
      "1719/1719 [==============================] - 3s 2ms/step - loss: 0.1079 - accuracy: 0.9692 - val_loss: 0.1176 - val_accuracy: 0.9674\n",
      "Epoch 16/30\n",
      "1719/1719 [==============================] - 3s 2ms/step - loss: 0.1020 - accuracy: 0.9710 - val_loss: 0.1129 - val_accuracy: 0.9688\n",
      "Epoch 17/30\n",
      "1719/1719 [==============================] - 3s 2ms/step - loss: 0.0961 - accuracy: 0.9727 - val_loss: 0.1103 - val_accuracy: 0.9686\n",
      "Epoch 18/30\n",
      "1719/1719 [==============================] - 3s 2ms/step - loss: 0.0909 - accuracy: 0.9739 - val_loss: 0.1053 - val_accuracy: 0.9692\n",
      "Epoch 19/30\n",
      "1719/1719 [==============================] - 3s 2ms/step - loss: 0.0863 - accuracy: 0.9755 - val_loss: 0.1039 - val_accuracy: 0.9710\n",
      "Epoch 20/30\n",
      "1719/1719 [==============================] - 3s 2ms/step - loss: 0.0813 - accuracy: 0.9769 - val_loss: 0.1007 - val_accuracy: 0.9698\n",
      "Epoch 21/30\n",
      "1719/1719 [==============================] - 3s 2ms/step - loss: 0.0774 - accuracy: 0.9779 - val_loss: 0.0978 - val_accuracy: 0.9716\n",
      "Epoch 22/30\n",
      "1719/1719 [==============================] - 3s 2ms/step - loss: 0.0730 - accuracy: 0.9791 - val_loss: 0.0951 - val_accuracy: 0.9736\n",
      "Epoch 23/30\n",
      "1719/1719 [==============================] - 3s 2ms/step - loss: 0.0699 - accuracy: 0.9803 - val_loss: 0.0902 - val_accuracy: 0.9730\n",
      "Epoch 24/30\n",
      "1719/1719 [==============================] - 3s 2ms/step - loss: 0.0663 - accuracy: 0.9812 - val_loss: 0.0905 - val_accuracy: 0.9732\n",
      "Epoch 25/30\n",
      "1719/1719 [==============================] - 3s 2ms/step - loss: 0.0630 - accuracy: 0.9824 - val_loss: 0.0865 - val_accuracy: 0.9748\n",
      "Epoch 26/30\n",
      "1719/1719 [==============================] - 3s 2ms/step - loss: 0.0604 - accuracy: 0.9830 - val_loss: 0.0879 - val_accuracy: 0.9742\n",
      "Epoch 27/30\n",
      "1719/1719 [==============================] - 3s 2ms/step - loss: 0.0575 - accuracy: 0.9842 - val_loss: 0.0842 - val_accuracy: 0.9764\n",
      "Epoch 28/30\n",
      "1719/1719 [==============================] - 3s 2ms/step - loss: 0.0547 - accuracy: 0.9850 - val_loss: 0.0843 - val_accuracy: 0.9762\n",
      "Epoch 29/30\n",
      "1719/1719 [==============================] - 3s 2ms/step - loss: 0.0524 - accuracy: 0.9857 - val_loss: 0.0852 - val_accuracy: 0.9752\n",
      "Epoch 30/30\n",
      "1719/1719 [==============================] - 3s 2ms/step - loss: 0.0499 - accuracy: 0.9863 - val_loss: 0.0824 - val_accuracy: 0.9756\n"
     ]
    },
    {
     "data": {
      "image/png": "[encoded data removed]",
      "text/plain": [
       "<Figure size 576x360 with 1 Axes>"
      ]
     },
     "metadata": {
      "needs_background": "light"
     },
     "output_type": "display_data"
    }
   ],
   "source": [
    "default_dense = partial(keras.layers.Dense,\n",
    "                        kernel_initializer='lecun_normal',\n",
    "                        activation='selu',\n",
    "                       )\n",
    "\n",
    "model = keras.models.Sequential([\n",
    "    keras.layers.Flatten(input_shape=[28, 28]),\n",
    "    default_dense(300),\n",
    "    default_dense(300),\n",
    "    default_dense(10, activation='softmax')\n",
    "])\n",
    "\n",
    "model.compile(\n",
    "    loss=tf.keras.losses.SparseCategoricalCrossentropy(), # loss when labels are integers\n",
    "    optimizer=keras.optimizers.SGD(lr=0.001, momentum=0.9),\n",
    "    metrics=['accuracy']\n",
    ")\n",
    "\n",
    "early_stopping_cb = keras.callbacks.EarlyStopping(\n",
    "    patience=10,\n",
    "    restore_best_weights=True\n",
    ")\n",
    "\n",
    "history = model.fit(\n",
    "    X_train,\n",
    "    y_train,\n",
    "    epochs=30,\n",
    "    validation_data=(X_valid, y_valid),\n",
    "    callbacks=[early_stopping_cb]\n",
    ")\n",
    "\n",
    "pd.DataFrame(history.history).plot(figsize=(8, 5))\n",
    "plt.grid(True)\n",
    "plt.gca().set_ylim(0, 1) # set the vertical range to [0-1]\n",
    "plt.show()"
   ]
  },
  {
   "cell_type": "code",
   "execution_count": 121,
   "metadata": {},
   "outputs": [
    {
     "name": "stdout",
     "output_type": "stream",
     "text": [
      "313/313 [==============================] - 0s 1ms/step - loss: 0.0879 - accuracy: 0.9742\n"
     ]
    }
   ],
   "source": [
    "model.evaluate(X_test, y_test);"
   ]
  },
  {
   "cell_type": "markdown",
   "metadata": {},
   "source": [
    "### As is, the default configuration doesn't perform any better than the simple dense model."
   ]
  },
  {
   "cell_type": "markdown",
   "metadata": {},
   "source": [
    "# END"
   ]
  }
 ],
 "metadata": {
  "kernelspec": {
   "display_name": "Python 3",
   "language": "python",
   "name": "python3"
  },
  "language_info": {
   "codemirror_mode": {
    "name": "ipython",
    "version": 3
   },
   "file_extension": ".py",
   "mimetype": "text/x-python",
   "name": "python",
   "nbconvert_exporter": "python",
   "pygments_lexer": "ipython3",
   "version": "3.8.5"
  }
 },
 "nbformat": 4,
 "nbformat_minor": 4
}
